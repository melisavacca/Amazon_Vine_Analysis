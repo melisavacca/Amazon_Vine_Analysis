{
  "nbformat": 4,
  "nbformat_minor": 0,
  "metadata": {
    "colab": {
      "name": "Vine_Review_Analysis.ipynb",
      "provenance": [],
      "collapsed_sections": [],
      "authorship_tag": "ABX9TyNSJ+ZPHoMMWdznxQrPASzR",
      "include_colab_link": true
    },
    "kernelspec": {
      "name": "python3",
      "display_name": "Python 3"
    },
    "language_info": {
      "name": "python"
    }
  },
  "cells": [
    {
      "cell_type": "markdown",
      "metadata": {
        "id": "view-in-github",
        "colab_type": "text"
      },
      "source": [
        "<a href=\"https://colab.research.google.com/github/melisavacca/Amazon_Vine_Analysis/blob/main/Vine_Review_Analysis.ipynb\" target=\"_parent\"><img src=\"https://colab.research.google.com/assets/colab-badge.svg\" alt=\"Open In Colab\"/></a>"
      ]
    },
    {
      "cell_type": "code",
      "metadata": {
        "colab": {
          "base_uri": "https://localhost:8080/"
        },
        "id": "HJvPDWZuxLaa",
        "outputId": "8e2d4682-641a-44ce-9f7d-315eda6e30e3"
      },
      "source": [
        "import os\n",
        "# Find the latest version of spark 3.0 from http://www.apache.org/dist/spark/ and enter as the spark version\n",
        "# For example:\n",
        "# spark_version = 'spark-3.0.3'\n",
        "spark_version = 'spark-3.0.3'\n",
        "os.environ['SPARK_VERSION']=spark_version\n",
        "\n",
        "# Install Spark and Java\n",
        "!apt-get update\n",
        "!apt-get install openjdk-11-jdk-headless -qq > /dev/null\n",
        "!wget -q http://www.apache.org/dist/spark/$SPARK_VERSION/$SPARK_VERSION-bin-hadoop2.7.tgz\n",
        "!tar xf $SPARK_VERSION-bin-hadoop2.7.tgz\n",
        "!pip install -q findspark\n",
        "\n",
        "# Set Environment Variables\n",
        "import os\n",
        "os.environ[\"JAVA_HOME\"] = \"/usr/lib/jvm/java-11-openjdk-amd64\"\n",
        "os.environ[\"SPARK_HOME\"] = f\"/content/{spark_version}-bin-hadoop2.7\"\n",
        "\n",
        "# Start a SparkSession\n",
        "import findspark\n",
        "findspark.init()"
      ],
      "execution_count": 1,
      "outputs": [
        {
          "output_type": "stream",
          "name": "stdout",
          "text": [
            "\r0% [Working]\r            \rGet:1 http://security.ubuntu.com/ubuntu bionic-security InRelease [88.7 kB]\n",
            "\r0% [Connecting to archive.ubuntu.com (91.189.88.152)] [1 InRelease 14.2 kB/88.7\r                                                                               \rGet:2 https://cloud.r-project.org/bin/linux/ubuntu bionic-cran40/ InRelease [3,626 B]\n",
            "\r0% [Connecting to archive.ubuntu.com (91.189.88.152)] [1 InRelease 43.1 kB/88.7\r0% [Connecting to archive.ubuntu.com (91.189.88.152)] [1 InRelease 88.7 kB/88.7\r0% [Connecting to archive.ubuntu.com (91.189.88.152)] [Connecting to ppa.launch\r0% [2 InRelease gpgv 3,626 B] [Connecting to archive.ubuntu.com (91.189.88.152)\r                                                                               \rIgn:3 https://developer.download.nvidia.com/compute/cuda/repos/ubuntu1804/x86_64  InRelease\n",
            "\r0% [2 InRelease gpgv 3,626 B] [Waiting for headers] [Waiting for headers] [Wait\r                                                                               \rHit:4 http://archive.ubuntu.com/ubuntu bionic InRelease\n",
            "Hit:5 http://ppa.launchpad.net/c2d4u.team/c2d4u4.0+/ubuntu bionic InRelease\n",
            "Ign:6 https://developer.download.nvidia.com/compute/machine-learning/repos/ubuntu1804/x86_64  InRelease\n",
            "Get:7 http://archive.ubuntu.com/ubuntu bionic-updates InRelease [88.7 kB]\n",
            "Hit:8 https://developer.download.nvidia.com/compute/cuda/repos/ubuntu1804/x86_64  Release\n",
            "Hit:9 https://developer.download.nvidia.com/compute/machine-learning/repos/ubuntu1804/x86_64  Release\n",
            "Hit:10 http://ppa.launchpad.net/cran/libgit2/ubuntu bionic InRelease\n",
            "Hit:11 http://ppa.launchpad.net/deadsnakes/ppa/ubuntu bionic InRelease\n",
            "Get:12 http://archive.ubuntu.com/ubuntu bionic-backports InRelease [74.6 kB]\n",
            "Get:13 http://security.ubuntu.com/ubuntu bionic-security/restricted amd64 Packages [607 kB]\n",
            "Hit:14 http://ppa.launchpad.net/graphics-drivers/ppa/ubuntu bionic InRelease\n",
            "Get:15 http://security.ubuntu.com/ubuntu bionic-security/universe amd64 Packages [1,431 kB]\n",
            "Get:16 http://security.ubuntu.com/ubuntu bionic-security/main amd64 Packages [2,367 kB]\n",
            "Get:19 http://archive.ubuntu.com/ubuntu bionic-updates/restricted amd64 Packages [640 kB]\n",
            "Get:20 http://archive.ubuntu.com/ubuntu bionic-updates/universe amd64 Packages [2,210 kB]\n",
            "Get:21 http://archive.ubuntu.com/ubuntu bionic-updates/main amd64 Packages [2,803 kB]\n",
            "Fetched 10.3 MB in 3s (3,231 kB/s)\n",
            "Reading package lists... Done\n"
          ]
        }
      ]
    },
    {
      "cell_type": "code",
      "metadata": {
        "colab": {
          "base_uri": "https://localhost:8080/"
        },
        "id": "VtfNY0QUxolU",
        "outputId": "50d70c9e-d4d9-408b-956a-301911aab2ac"
      },
      "source": [
        "# Download the Postgres driver that will allow Spark to interact with Postgres.\n",
        "!wget https://jdbc.postgresql.org/download/postgresql-42.2.16.jar"
      ],
      "execution_count": 2,
      "outputs": [
        {
          "output_type": "stream",
          "name": "stdout",
          "text": [
            "--2021-10-13 21:33:59--  https://jdbc.postgresql.org/download/postgresql-42.2.16.jar\n",
            "Resolving jdbc.postgresql.org (jdbc.postgresql.org)... 72.32.157.228, 2001:4800:3e1:1::228\n",
            "Connecting to jdbc.postgresql.org (jdbc.postgresql.org)|72.32.157.228|:443... connected.\n",
            "HTTP request sent, awaiting response... 200 OK\n",
            "Length: 1002883 (979K) [application/java-archive]\n",
            "Saving to: ‘postgresql-42.2.16.jar’\n",
            "\n",
            "postgresql-42.2.16. 100%[===================>] 979.38K  5.58MB/s    in 0.2s    \n",
            "\n",
            "2021-10-13 21:33:59 (5.58 MB/s) - ‘postgresql-42.2.16.jar’ saved [1002883/1002883]\n",
            "\n"
          ]
        }
      ]
    },
    {
      "cell_type": "code",
      "metadata": {
        "id": "Zo5P2YZIxs7f"
      },
      "source": [
        "from pyspark.sql import SparkSession\n",
        "spark = SparkSession.builder.appName(\"M16-Amazon-Challenge\").config(\"spark.driver.extraClassPath\",\"/content/postgresql-42.2.16.jar\").getOrCreate()"
      ],
      "execution_count": 3,
      "outputs": []
    },
    {
      "cell_type": "code",
      "metadata": {
        "colab": {
          "base_uri": "https://localhost:8080/"
        },
        "id": "tsXfPGdLxzo3",
        "outputId": "d12ca3fd-c3c2-49db-d388-7ad01471c8d0"
      },
      "source": [
        "from pyspark import SparkFiles\n",
        "url = \"https://s3.amazonaws.com/amazon-reviews-pds/tsv/amazon_reviews_us_Musical_Instruments_v1_00.tsv.gz\"\n",
        "spark.sparkContext.addFile(url)\n",
        "df = spark.read.option(\"encoding\", \"UTF-8\").csv(SparkFiles.get(\"\"), sep=\"\\t\", header=True, inferSchema=True)\n",
        "df.show()"
      ],
      "execution_count": 4,
      "outputs": [
        {
          "output_type": "stream",
          "name": "stdout",
          "text": [
            "+-----------+-----------+--------------+----------+--------------+--------------------+-------------------+-----------+-------------+-----------+----+-----------------+--------------------+--------------------+-----------+\n",
            "|marketplace|customer_id|     review_id|product_id|product_parent|       product_title|   product_category|star_rating|helpful_votes|total_votes|vine|verified_purchase|     review_headline|         review_body|review_date|\n",
            "+-----------+-----------+--------------+----------+--------------+--------------------+-------------------+-----------+-------------+-----------+----+-----------------+--------------------+--------------------+-----------+\n",
            "|         US|   45610553| RMDCHWD0Y5OZ9|B00HH62VB6|     618218723|AGPtek® 10 Isolat...|Musical Instruments|          3|            0|          1|   N|                N|         Three Stars|Works very good, ...| 2015-08-31|\n",
            "|         US|   14640079| RZSL0BALIYUNU|B003LRN53I|     986692292|Sennheiser HD203 ...|Musical Instruments|          5|            0|          0|   N|                Y|          Five Stars|Nice headphones a...| 2015-08-31|\n",
            "|         US|    6111003| RIZR67JKUDBI0|B0006VMBHI|     603261968|AudioQuest LP rec...|Musical Instruments|          3|            0|          1|   N|                Y|         Three Stars|removes dust. doe...| 2015-08-31|\n",
            "|         US|    1546619|R27HL570VNL85F|B002B55TRG|     575084461|Hohner Inc. 560BX...|Musical Instruments|          5|            0|          0|   N|                Y|I purchase these ...|I purchase these ...| 2015-08-31|\n",
            "|         US|   12222213|R34EBU9QDWJ1GD|B00N1YPXW2|     165236328|Blue Yeti USB Mic...|Musical Instruments|          5|            0|          0|   N|                Y|          Five Stars|This is an awesom...| 2015-08-31|\n",
            "|         US|   46018513|R1WCUI4Z1SIQEO|B001N4GRGS|     134151483|Middle Atlantic P...|Musical Instruments|          5|            0|          0|   N|                N|          Five Stars|Used to cool equi...| 2015-08-31|\n",
            "|         US|   10225065| RL5LNO26GAVJ1|B009PJRMHQ|     694166585|Kmise 1pc Pickgua...|Musical Instruments|          2|            3|          4|   N|                Y|Will not Fit Epip...|Note- Does not Fi...| 2015-08-31|\n",
            "|         US|    6356995|R3GYQ5W8JHP8SB|B00NKBDAZS|     446431775|Kealoha Concert U...|Musical Instruments|          5|            0|          0|   N|                Y|          Five Stars|Well built Ukulel...| 2015-08-31|\n",
            "|         US|   35297198|R30SHYQXGG5EYC|B006MIU7U2|     125871705|Halco 80000 - MR1...|Musical Instruments|          5|            0|          0|   N|                Y|Works fine. Hope ...|Had to replace a ...| 2015-08-31|\n",
            "|         US|   32139520|R14YLXA56NP51I|B000FIBD0I|     771888534|Gator GPTBLACK Pl...|Musical Instruments|          5|            1|          1|   N|                N|I upgraded the po...|I've owned multip...| 2015-08-31|\n",
            "|         US|   36060782|R1ZH0HSH38IOTZ|B0002E52GG|      68535945|Hetman 1 - Light ...|Musical Instruments|          5|            0|          0|   N|                Y|My son's favourit...|Consistent qualit...| 2015-08-31|\n",
            "|         US|    5301309|R3H53KLLC210XI|B00RZIH52G|     725541773|Dragonpad pop fil...|Musical Instruments|          4|            0|          0|   N|                Y|Great pop filter ...|by far the best p...| 2015-08-31|\n",
            "|         US|   37472935|R3OOR877NGA8JK|B001792BAU|      46570323|DharmaObjects Rel...|Musical Instruments|          3|            0|          0|   N|                Y|                  Ok|Beautiful set. On...| 2015-08-31|\n",
            "|         US|   33578270|R1BY7WKOZ3KMH0|B009GSKW1Y|     547963417|Musiclily SSS Pla...|Musical Instruments|          2|            0|          0|   N|                Y|           Two Stars|Bridge pickup was...| 2015-08-31|\n",
            "|         US|   22070226| RXP1TFSWE8EG9|B0002F4TKA|     436074323|Vic Firth America...|Musical Instruments|          5|            0|          0|   N|                Y|          Five Stars|Feels good and la...| 2015-08-31|\n",
            "|         US|   52862655|R3J44DPP12OTLJ|B00K17YFBW|      81933093|Guitar Stand for ...|Musical Instruments|          5|            0|          0|   N|                Y|Great stand... on...|I love the stand....| 2015-08-31|\n",
            "|         US|    4427243| RFOV69SK0T676|B00EQ24HJS|     669249276|Generic 3PLY Faux...|Musical Instruments|          5|            0|          0|   N|                Y|Looks great. You ...|On time. Looks gr...| 2015-08-31|\n",
            "|         US|   14108571|R2HUWDNW62FOL3|B00IBOYTUE|     749537231|Audio 2000 6525 3...|Musical Instruments|          1|            0|          0|   N|                Y|  Poor sound quality|I was hoping it w...| 2015-08-31|\n",
            "|         US|   27314089|R1KSU30XZGR452|B00FBRUSAE|     792472601|Sawtooth ST-AMP-1...|Musical Instruments|          5|            0|          0|   N|                Y|Perfect for the b...|Good sound for it...| 2015-08-31|\n",
            "|         US|   16735445|R2TZVLLTSHA07N|B0113D2QUO|     269114019|Upado Unlimited G...|Musical Instruments|          5|            1|          1|   N|                Y|It really is a mu...|Wow! I didn't exp...| 2015-08-31|\n",
            "+-----------+-----------+--------------+----------+--------------+--------------------+-------------------+-----------+-------------+-----------+----+-----------------+--------------------+--------------------+-----------+\n",
            "only showing top 20 rows\n",
            "\n"
          ]
        }
      ]
    },
    {
      "cell_type": "code",
      "metadata": {
        "colab": {
          "base_uri": "https://localhost:8080/"
        },
        "id": "CBcqPK97yHV1",
        "outputId": "3a7d7968-2190-42a7-98b8-ea2c6b5de9ab"
      },
      "source": [
        "from pyspark.sql.functions import to_date\n",
        "# Read in the Review dataset as a DataFrame\n",
        "df.show(5)"
      ],
      "execution_count": 5,
      "outputs": [
        {
          "output_type": "stream",
          "name": "stdout",
          "text": [
            "+-----------+-----------+--------------+----------+--------------+--------------------+-------------------+-----------+-------------+-----------+----+-----------------+--------------------+--------------------+-----------+\n",
            "|marketplace|customer_id|     review_id|product_id|product_parent|       product_title|   product_category|star_rating|helpful_votes|total_votes|vine|verified_purchase|     review_headline|         review_body|review_date|\n",
            "+-----------+-----------+--------------+----------+--------------+--------------------+-------------------+-----------+-------------+-----------+----+-----------------+--------------------+--------------------+-----------+\n",
            "|         US|   45610553| RMDCHWD0Y5OZ9|B00HH62VB6|     618218723|AGPtek® 10 Isolat...|Musical Instruments|          3|            0|          1|   N|                N|         Three Stars|Works very good, ...| 2015-08-31|\n",
            "|         US|   14640079| RZSL0BALIYUNU|B003LRN53I|     986692292|Sennheiser HD203 ...|Musical Instruments|          5|            0|          0|   N|                Y|          Five Stars|Nice headphones a...| 2015-08-31|\n",
            "|         US|    6111003| RIZR67JKUDBI0|B0006VMBHI|     603261968|AudioQuest LP rec...|Musical Instruments|          3|            0|          1|   N|                Y|         Three Stars|removes dust. doe...| 2015-08-31|\n",
            "|         US|    1546619|R27HL570VNL85F|B002B55TRG|     575084461|Hohner Inc. 560BX...|Musical Instruments|          5|            0|          0|   N|                Y|I purchase these ...|I purchase these ...| 2015-08-31|\n",
            "|         US|   12222213|R34EBU9QDWJ1GD|B00N1YPXW2|     165236328|Blue Yeti USB Mic...|Musical Instruments|          5|            0|          0|   N|                Y|          Five Stars|This is an awesom...| 2015-08-31|\n",
            "+-----------+-----------+--------------+----------+--------------+--------------------+-------------------+-----------+-------------+-----------+----+-----------------+--------------------+--------------------+-----------+\n",
            "only showing top 5 rows\n",
            "\n"
          ]
        }
      ]
    },
    {
      "cell_type": "code",
      "metadata": {
        "colab": {
          "base_uri": "https://localhost:8080/"
        },
        "id": "m4pwtIZ1lLI-",
        "outputId": "bb28870e-2ebc-4e6d-d8e7-985f4587754d"
      },
      "source": [
        "#Show all the total votes greater than 20\n",
        "from pyspark.sql.functions import count\n",
        "df.filter(\"total_votes > 20\").show()"
      ],
      "execution_count": 6,
      "outputs": [
        {
          "output_type": "stream",
          "name": "stdout",
          "text": [
            "+-----------+-----------+--------------+----------+--------------+--------------------+-------------------+-----------+-------------+-----------+----+-----------------+--------------------+--------------------+-----------+\n",
            "|marketplace|customer_id|     review_id|product_id|product_parent|       product_title|   product_category|star_rating|helpful_votes|total_votes|vine|verified_purchase|     review_headline|         review_body|review_date|\n",
            "+-----------+-----------+--------------+----------+--------------+--------------------+-------------------+-----------+-------------+-----------+----+-----------------+--------------------+--------------------+-----------+\n",
            "|         US|   15365576|R2243Y3OD8U6KQ|B00W1RTVGO|     160618734|Supertech stage l...|Musical Instruments|          5|           47|         61|   N|                N|This fills a room...|I am always looki...| 2015-08-31|\n",
            "|         US|   28770559|R2TGT0CDTCAAHW|B00INJ7HBK|     157027184|Singing Machine I...|Musical Instruments|          5|           21|         23|   N|                Y|   excellent product|Kids love it! It'...| 2015-08-31|\n",
            "|         US|   35225823| RX4D22YSXEF4P|B009EK8PUY|     166820090|Akai Front Load C...|Musical Instruments|          1|           37|         38|   N|                Y|All the reviews t...|All the reviews t...| 2015-08-31|\n",
            "|         US|   24740219|R3FL2NTLFUSPTQ|B014K2S348|     865024902|AKG 2015 NEWEST M...|Musical Instruments|          5|           33|         37|   N|                N|Might need an Amp...|I picked these he...| 2015-08-30|\n",
            "|         US|   26124872|R3QTP3YNZXAPPF|B004ISK4E2|     269767230|Fender CD-60 All ...|Musical Instruments|          3|           23|         24|   N|                Y|Couldnt be happie...|Great value. Awes...| 2015-08-30|\n",
            "|         US|   16452718|R36V6V42VN5AS5|B00SCP7IB4|     160806469|Numark Mixtrack 3...|Musical Instruments|          5|           34|         37|   N|                Y|let me say that t...|First off, let me...| 2015-08-30|\n",
            "|         US|   40567300|R27LZWE27BJPOB|B0142OY3ZM|     201152025|WOWTOU RGB Stage ...|Musical Instruments|          5|           22|         23|   N|                N|    Neat desktop toy|I saw this item a...| 2015-08-30|\n",
            "|         US|   52695075|  RMRD6SMF2AUQ|B010W6WFEA|     592936032|Shure MV51 Digita...|Musical Instruments|          3|            4|         21|   N|                N|A bit short of th...|Almost Shure, alm...| 2015-08-30|\n",
            "|         US|   11587240| RMPCXKWX3T57Y|B000U0DU34|     875707506|Fulltone OCD Obse...|Musical Instruments|          1|            1|         73|   N|                N|so happy the fina...|Finally I can't w...| 2015-08-29|\n",
            "|         US|   49287335|R1P7GJ0IN2BRNH|B005FIFM14|       2563833|Pick Punch - The ...|Musical Instruments|          5|           37|         37|   N|                Y|  super fun and easy|Had it for about ...| 2015-08-29|\n",
            "|         US|   44703201|R3JM8Z4SP9N3H2|B00BG300DC|     310087706|PRS Exclusive Tob...|Musical Instruments|          1|            4|         23|   N|                N|Total Marketing Scam|This is a marketi...| 2015-08-29|\n",
            "|         US|   18517211|R2J0ZZGFXKM8KR|B00MZY6DXM|     498246743|Bakelite Guitar F...|Musical Instruments|          2|           21|         22|   N|                Y|NOT A SET OF NUT ...|NOT A SET OF NUT ...| 2015-08-28|\n",
            "|         US|   29380174|R238ZSG6TSUBNX|B0025VLQVE|     481754329|Dean Vendetta XMT...|Musical Instruments|          5|           27|         27|   N|                Y|          Amazing!!!|I can't believe p...| 2015-08-28|\n",
            "|         US|   47575748| RC6Y8GYIQZ8YU|B00HVLUR54|       9240469|Audio-Technica AT...|Musical Instruments|          3|           72|         85|   N|                Y|Good Sound, Medio...|Sound quality is ...| 2015-08-28|\n",
            "|         US|    1221512| RFL3TJED8C240|B00IZP4XR8|     386235968|Ibanez RG Series ...|Musical Instruments|          5|           13|         24|   N|                N|           It dj0nts|0/0<br />It dj0nt...| 2015-08-28|\n",
            "|         US|   51260912|R3D4P7A8Q1C70F|B00WU5OM5M|      18153107|LaluceNatz 18LED ...|Musical Instruments|          5|           22|         27|   N|                Y|Great product, es...|Ok, here is the d...| 2015-08-27|\n",
            "|         US|   40130155|R3PRNAQVQBB9M6|B00MUFJXTM|     500213118|TOTMC Legend of Z...|Musical Instruments|          1|           21|         30|   N|                Y|Product Not as Ad...|Terrible ocarina,...| 2015-08-27|\n",
            "|         US|   23046787|R3JNDLZ3KACRLG|B00MZCES7W|     356038397|Casio Learn-To-Pl...|Musical Instruments|          5|           29|         33|   N|                N|Best Learning Key...|My father in law ...| 2015-08-27|\n",
            "|         US|   47324124|R1PVVYYY0Q1HZ0|B00IPWOEJI|     627374566|TMS Black Ebony W...|Musical Instruments|          5|           21|         21|   N|                Y|Appears to be goo...|Exactly what I wa...| 2015-08-27|\n",
            "|         US|   42689422|R1R9RU7JW0MFR2|B0124Y99PQ|     618027384|Casio CGP-700BK C...|Musical Instruments|          4|           20|         23|   Y|                N|Be prepared to be...|First off PLEASE ...| 2015-08-27|\n",
            "+-----------+-----------+--------------+----------+--------------+--------------------+-------------------+-----------+-------------+-----------+----+-----------------+--------------------+--------------------+-----------+\n",
            "only showing top 20 rows\n",
            "\n"
          ]
        }
      ]
    },
    {
      "cell_type": "code",
      "metadata": {
        "colab": {
          "base_uri": "https://localhost:8080/"
        },
        "id": "tdcv8H_fl1rQ",
        "outputId": "f9cc40e0-1690-426f-8842-3459d6fe8d16"
      },
      "source": [
        "#Helpful votes divided by total votes is equal to or greater than 50%\n",
        "df2 = df.filter((df.helpful_votes / df.total_votes) >= 0.5)\n",
        "df2.show()"
      ],
      "execution_count": 14,
      "outputs": [
        {
          "output_type": "stream",
          "name": "stdout",
          "text": [
            "+-----------+-----------+--------------+----------+--------------+--------------------+-------------------+-----------+-------------+-----------+----+-----------------+--------------------+--------------------+-----------+\n",
            "|marketplace|customer_id|     review_id|product_id|product_parent|       product_title|   product_category|star_rating|helpful_votes|total_votes|vine|verified_purchase|     review_headline|         review_body|review_date|\n",
            "+-----------+-----------+--------------+----------+--------------+--------------------+-------------------+-----------+-------------+-----------+----+-----------------+--------------------+--------------------+-----------+\n",
            "|         US|   10225065| RL5LNO26GAVJ1|B009PJRMHQ|     694166585|Kmise 1pc Pickgua...|Musical Instruments|          2|            3|          4|   N|                Y|Will not Fit Epip...|Note- Does not Fi...| 2015-08-31|\n",
            "|         US|   32139520|R14YLXA56NP51I|B000FIBD0I|     771888534|Gator GPTBLACK Pl...|Musical Instruments|          5|            1|          1|   N|                N|I upgraded the po...|I've owned multip...| 2015-08-31|\n",
            "|         US|   16735445|R2TZVLLTSHA07N|B0113D2QUO|     269114019|Upado Unlimited G...|Musical Instruments|          5|            1|          1|   N|                Y|It really is a mu...|Wow! I didn't exp...| 2015-08-31|\n",
            "|         US|   48885952|R2EFSVA4ZDWLN4|B00CPFA0TE|     567273591|DiMMYS (Tinted & ...|Musical Instruments|          5|            2|          2|   N|                Y|Perfect for what ...|I needed to dim t...| 2015-08-31|\n",
            "|         US|   15365576|R2243Y3OD8U6KQ|B00W1RTVGO|     160618734|Supertech stage l...|Musical Instruments|          5|           47|         61|   N|                N|This fills a room...|I am always looki...| 2015-08-31|\n",
            "|         US|   19273459|R1G8LGJMUY210N|B00SNBCBGE|     170085695|ION Audio Tailgat...|Musical Instruments|          5|            1|          2|   N|                Y|          Five Stars|great little box ...| 2015-08-31|\n",
            "|         US|   30394585|R1YJXOSQ36ZOR9|B0090S9NII|     314134955|Fender American V...|Musical Instruments|          5|            1|          1|   N|                N|  A must have guitar|Killer tone, Ligh...| 2015-08-31|\n",
            "|         US|    5782091|R2N29Z13SBTWB0|B00HVLUR54|       9240469|Audio-Technica AT...|Musical Instruments|          5|            1|          1|   N|                Y|       Shipped Fast.|I am never buying...| 2015-08-31|\n",
            "|         US|   50681750|R1L267LIY95CPB|B0130VVOOG|     779796184|Casio PX360BK Key...|Musical Instruments|          5|           10|         11|   N|                N|Fantastic Piano K...|This is a fantast...| 2015-08-31|\n",
            "|         US|   22104665|R2ZH0JLHNFWBTB|B004DR2P4A|     537733241|Bigsby B3 Guitar ...|Musical Instruments|          5|            1|          1|   N|                Y|Bigsby's are grea...|The B-3 is probab...| 2015-08-31|\n",
            "|         US|   18718101| RJM45NORR02B3|B00L5QAPYO|     872920592|ChromaCast 2 Tier...|Musical Instruments|          1|            2|          2|   N|                Y|sorry but wasnt made|sorry  but  wasnt...| 2015-08-31|\n",
            "|         US|   15200628|R2NWJ89IHQXYNB|B00HVLUSGM|     102113042|Audio-Technica AT...|Musical Instruments|          5|            1|          1|   N|                Y|           Top Notch|I've gone through...| 2015-08-31|\n",
            "|         US|   52576717|R1BFDCGZCSKP77|B00OIPQQYM|     899660632|Korg Miku Stomp V...|Musical Instruments|          2|            1|          1|   N|                Y|  Fun but bad delay.|Novelty item. Fun...| 2015-08-31|\n",
            "|         US|   13814995|R2GG2DBDURJPQQ|B00YM11CWS|     216900360|CLD Brands Legend...|Musical Instruments|          5|            1|          2|   N|                Y|Love it. Wonderfu...|Love it.  Wonderf...| 2015-08-31|\n",
            "|         US|   21380993| RPZHAM1T3RMDU|B005EHILV4|     820471122|BEHRINGER XENYX 3...|Musical Instruments|          5|            6|          7|   N|                Y|  Great Little Mixer|Great little mixe...| 2015-08-31|\n",
            "|         US|   28770559|R2TGT0CDTCAAHW|B00INJ7HBK|     157027184|Singing Machine I...|Musical Instruments|          5|           21|         23|   N|                Y|   excellent product|Kids love it! It'...| 2015-08-31|\n",
            "|         US|   38118791|R1D7XWOV7I3FF5|B0064S8G1C|     381031940|Etude ETB-100 Ser...|Musical Instruments|          5|            1|          1|   N|                Y|          Five Stars|So far it's been ...| 2015-08-31|\n",
            "|         US|   37940974|R2PSXVRYG9WHVM|B00YNQH17C|     334177901|Dancing Buddha F ...|Musical Instruments|          5|            1|          1|   N|                Y|Sounds like a bel...|Incredible sound ...| 2015-08-31|\n",
            "|         US|   43105549|R2QS6A17WBF2JB|B000E0PPH4|     663062063|Pyle PMX602M 6-Ch...|Musical Instruments|          2|            1|          1|   N|                Y|           Two Stars|Makes lots of Noi...| 2015-08-31|\n",
            "|         US|   32672319|R2WDZPS4FXEYKW|B00D2TZKIS|     517123763|Crank Up Triangle...|Musical Instruments|          5|            6|          6|   N|                Y|I have been djing...|I have been djing...| 2015-08-31|\n",
            "+-----------+-----------+--------------+----------+--------------+--------------------+-------------------+-----------+-------------+-----------+----+-----------------+--------------------+--------------------+-----------+\n",
            "only showing top 20 rows\n",
            "\n"
          ]
        }
      ]
    },
    {
      "cell_type": "code",
      "metadata": {
        "colab": {
          "base_uri": "https://localhost:8080/"
        },
        "id": "eViNeg6qoCDn",
        "outputId": "5b4850b1-4018-4033-d8a8-21b9d1dcfa6d"
      },
      "source": [
        "#Review was written as part of the Vine program (paid)\n",
        "df_paid = df2.filter(df2.vine == 'Y')\n",
        "df_paid.show()\n"
      ],
      "execution_count": 32,
      "outputs": [
        {
          "output_type": "stream",
          "name": "stdout",
          "text": [
            "+-----------+-----------+--------------+----------+--------------+--------------------+-------------------+-----------+-------------+-----------+----+-----------------+--------------------+--------------------+-----------+\n",
            "|marketplace|customer_id|     review_id|product_id|product_parent|       product_title|   product_category|star_rating|helpful_votes|total_votes|vine|verified_purchase|     review_headline|         review_body|review_date|\n",
            "+-----------+-----------+--------------+----------+--------------+--------------------+-------------------+-----------+-------------+-----------+----+-----------------+--------------------+--------------------+-----------+\n",
            "|         US|   27769608|R1MESKI5XK08OC|B00YRKPB3K|     219663516|D'Addario Reserve...|Musical Instruments|          5|            2|          3|   Y|                N|A good reed, that...|Clarinet and saxo...| 2015-08-31|\n",
            "|         US|   42869594|R2MLNWOLUKXFGU|B00S2VVTP4|     489028362|Ernie Ball Regula...|Musical Instruments|          5|            1|          1|   Y|                N|Surprisingly Good...|I put this set of...| 2015-08-31|\n",
            "|         US|   28322689|R3SLEAPFDAIVJD|B00SFMMQPC|     464111842|CAD Audio D38X3 P...|Musical Instruments|          5|            1|          2|   Y|                N|Work very well at...|This value set of...| 2015-08-31|\n",
            "|         US|   50162187| R65JKJ6FWCBKI|B00YRKPB3K|     219663516|D'Addario Reserve...|Musical Instruments|          5|            1|          2|   Y|                N|             play on|When I started pl...| 2015-08-31|\n",
            "|         US|   52679813|R1S1ECZN6QRE9W|B00KBMAJU8|     840979722|            AudioBox|Musical Instruments|          5|            5|          5|   Y|                N|Good option for p...|This is definitel...| 2015-08-30|\n",
            "|         US|   29182364|R3HSV00TV8ZVIQ|B00KBMAJU8|     840979722|            AudioBox|Musical Instruments|          4|           14|         15|   Y|                N|    Pretty impressed|After almost two ...| 2015-08-30|\n",
            "|         US|   36492211| R9HEZM8VL7CGX|B00YRKPB3K|     219663516|D'Addario Reserve...|Musical Instruments|          4|            2|          3|   Y|                N|       Hold up well.|If you even play ...| 2015-08-30|\n",
            "|         US|   32479799|R2BKYUTINKB50J|B00RBQV2XK|     305411654|Mackie FREEPLAY -...|Musical Instruments|          5|           10|         11|   Y|                N|Fantastic sound a...|This PA system is...| 2015-08-29|\n",
            "|         US|   52224246| R8VGCE136PO4Q|B00KBMAJU8|     840979722|            AudioBox|Musical Instruments|          5|            1|          1|   Y|                N|Good interface bo...|I've been playing...| 2015-08-28|\n",
            "|         US|   38409053|R104E1IFINZRCZ|B00YRKPB3K|     219663516|D'Addario Reserve...|Musical Instruments|          5|            1|          2|   Y|                N|Great quality for...|My daughter plays...| 2015-08-28|\n",
            "|         US|   52681722|R2EHKG3PNT3LX5|B00RBQV2XK|     305411654|Mackie FREEPLAY -...|Musical Instruments|          5|            4|          6|   Y|                N|Great sound and a...|Mackie is a very ...| 2015-08-27|\n",
            "|         US|   51747304|R2ISA9U5H62QPI|B011QVG9L0|     513044724|Promark Glenn Kot...|Musical Instruments|          5|            2|          4|   Y|                N|A nice pair of dr...|These drum sticks...| 2015-08-27|\n",
            "|         US|   42689422|R1R9RU7JW0MFR2|B0124Y99PQ|     618027384|Casio CGP-700BK C...|Musical Instruments|          4|           20|         23|   Y|                N|Be prepared to be...|First off PLEASE ...| 2015-08-27|\n",
            "|         US|   52863557|R3Q8KGZCS8YTRU|B00RBQV2XK|     305411654|Mackie FREEPLAY -...|Musical Instruments|          2|            1|          2|   Y|                N|Did not perform a...|Mostly a disappoi...| 2015-08-25|\n",
            "|         US|   29905784| RJ8N14D15KDJN|B007KC7IAG|     120573562|Ernie Ball Slinky...|Musical Instruments|          5|            1|          1|   Y|                N|  great bass strings|strong and clear ...| 2015-08-25|\n",
            "|         US|   52374114|R2YW7YQ9C8RRUP|B00ZU4G0ZK|     499223759|TC Electronic Pol...|Musical Instruments|          5|            4|          5|   Y|                N|Nice electronic g...|I use the TC Elec...| 2015-08-25|\n",
            "|         US|   27769608| RZY36FU4OH90C|B00KBMAJU8|     840979722|            AudioBox|Musical Instruments|          3|            5|          7|   Y|                N|Not bad, but not ...|First things firs...| 2015-08-25|\n",
            "|         US|   49783616|R2YH5S36KHIW8I|B00K2U365Y|     317001509|CAD Audio MH320 C...|Musical Instruments|          5|            1|          1|   Y|                N|Great headphones ...|I use headphones ...| 2015-08-24|\n",
            "|         US|   49980229|  RQ9DM7UPFZ0H|B0124Y99PQ|     618027384|Casio CGP-700BK C...|Musical Instruments|          5|            9|         13|   Y|                N|     Awesome so far.|My wife received ...| 2015-08-24|\n",
            "|         US|   51812418|R1IIKKH5JGHBXJ|B0019QJW2G|     725131531|Ernie Ball 4600 S...|Musical Instruments|          5|            1|          1|   Y|                N|          Ball Locks|I could live with...| 2015-08-24|\n",
            "+-----------+-----------+--------------+----------+--------------+--------------------+-------------------+-----------+-------------+-----------+----+-----------------+--------------------+--------------------+-----------+\n",
            "only showing top 20 rows\n",
            "\n"
          ]
        }
      ]
    },
    {
      "cell_type": "code",
      "metadata": {
        "colab": {
          "base_uri": "https://localhost:8080/"
        },
        "id": "vgCn1fPao8C4",
        "outputId": "787597ab-b798-4f61-9cb1-f4a44cc927ac"
      },
      "source": [
        "#Review was written as part of the Vine program (unpaid)\n",
        "df_unpaid = df2.filter(df2.vine == 'N')\n",
        "df_unpaid.show()"
      ],
      "execution_count": 34,
      "outputs": [
        {
          "output_type": "stream",
          "name": "stdout",
          "text": [
            "+-----------+-----------+--------------+----------+--------------+--------------------+-------------------+-----------+-------------+-----------+----+-----------------+--------------------+--------------------+-----------+\n",
            "|marketplace|customer_id|     review_id|product_id|product_parent|       product_title|   product_category|star_rating|helpful_votes|total_votes|vine|verified_purchase|     review_headline|         review_body|review_date|\n",
            "+-----------+-----------+--------------+----------+--------------+--------------------+-------------------+-----------+-------------+-----------+----+-----------------+--------------------+--------------------+-----------+\n",
            "|         US|   10225065| RL5LNO26GAVJ1|B009PJRMHQ|     694166585|Kmise 1pc Pickgua...|Musical Instruments|          2|            3|          4|   N|                Y|Will not Fit Epip...|Note- Does not Fi...| 2015-08-31|\n",
            "|         US|   32139520|R14YLXA56NP51I|B000FIBD0I|     771888534|Gator GPTBLACK Pl...|Musical Instruments|          5|            1|          1|   N|                N|I upgraded the po...|I've owned multip...| 2015-08-31|\n",
            "|         US|   16735445|R2TZVLLTSHA07N|B0113D2QUO|     269114019|Upado Unlimited G...|Musical Instruments|          5|            1|          1|   N|                Y|It really is a mu...|Wow! I didn't exp...| 2015-08-31|\n",
            "|         US|   48885952|R2EFSVA4ZDWLN4|B00CPFA0TE|     567273591|DiMMYS (Tinted & ...|Musical Instruments|          5|            2|          2|   N|                Y|Perfect for what ...|I needed to dim t...| 2015-08-31|\n",
            "|         US|   15365576|R2243Y3OD8U6KQ|B00W1RTVGO|     160618734|Supertech stage l...|Musical Instruments|          5|           47|         61|   N|                N|This fills a room...|I am always looki...| 2015-08-31|\n",
            "|         US|   19273459|R1G8LGJMUY210N|B00SNBCBGE|     170085695|ION Audio Tailgat...|Musical Instruments|          5|            1|          2|   N|                Y|          Five Stars|great little box ...| 2015-08-31|\n",
            "|         US|   30394585|R1YJXOSQ36ZOR9|B0090S9NII|     314134955|Fender American V...|Musical Instruments|          5|            1|          1|   N|                N|  A must have guitar|Killer tone, Ligh...| 2015-08-31|\n",
            "|         US|    5782091|R2N29Z13SBTWB0|B00HVLUR54|       9240469|Audio-Technica AT...|Musical Instruments|          5|            1|          1|   N|                Y|       Shipped Fast.|I am never buying...| 2015-08-31|\n",
            "|         US|   50681750|R1L267LIY95CPB|B0130VVOOG|     779796184|Casio PX360BK Key...|Musical Instruments|          5|           10|         11|   N|                N|Fantastic Piano K...|This is a fantast...| 2015-08-31|\n",
            "|         US|   22104665|R2ZH0JLHNFWBTB|B004DR2P4A|     537733241|Bigsby B3 Guitar ...|Musical Instruments|          5|            1|          1|   N|                Y|Bigsby's are grea...|The B-3 is probab...| 2015-08-31|\n",
            "|         US|   18718101| RJM45NORR02B3|B00L5QAPYO|     872920592|ChromaCast 2 Tier...|Musical Instruments|          1|            2|          2|   N|                Y|sorry but wasnt made|sorry  but  wasnt...| 2015-08-31|\n",
            "|         US|   15200628|R2NWJ89IHQXYNB|B00HVLUSGM|     102113042|Audio-Technica AT...|Musical Instruments|          5|            1|          1|   N|                Y|           Top Notch|I've gone through...| 2015-08-31|\n",
            "|         US|   52576717|R1BFDCGZCSKP77|B00OIPQQYM|     899660632|Korg Miku Stomp V...|Musical Instruments|          2|            1|          1|   N|                Y|  Fun but bad delay.|Novelty item. Fun...| 2015-08-31|\n",
            "|         US|   13814995|R2GG2DBDURJPQQ|B00YM11CWS|     216900360|CLD Brands Legend...|Musical Instruments|          5|            1|          2|   N|                Y|Love it. Wonderfu...|Love it.  Wonderf...| 2015-08-31|\n",
            "|         US|   21380993| RPZHAM1T3RMDU|B005EHILV4|     820471122|BEHRINGER XENYX 3...|Musical Instruments|          5|            6|          7|   N|                Y|  Great Little Mixer|Great little mixe...| 2015-08-31|\n",
            "|         US|   28770559|R2TGT0CDTCAAHW|B00INJ7HBK|     157027184|Singing Machine I...|Musical Instruments|          5|           21|         23|   N|                Y|   excellent product|Kids love it! It'...| 2015-08-31|\n",
            "|         US|   38118791|R1D7XWOV7I3FF5|B0064S8G1C|     381031940|Etude ETB-100 Ser...|Musical Instruments|          5|            1|          1|   N|                Y|          Five Stars|So far it's been ...| 2015-08-31|\n",
            "|         US|   37940974|R2PSXVRYG9WHVM|B00YNQH17C|     334177901|Dancing Buddha F ...|Musical Instruments|          5|            1|          1|   N|                Y|Sounds like a bel...|Incredible sound ...| 2015-08-31|\n",
            "|         US|   43105549|R2QS6A17WBF2JB|B000E0PPH4|     663062063|Pyle PMX602M 6-Ch...|Musical Instruments|          2|            1|          1|   N|                Y|           Two Stars|Makes lots of Noi...| 2015-08-31|\n",
            "|         US|   32672319|R2WDZPS4FXEYKW|B00D2TZKIS|     517123763|Crank Up Triangle...|Musical Instruments|          5|            6|          6|   N|                Y|I have been djing...|I have been djing...| 2015-08-31|\n",
            "+-----------+-----------+--------------+----------+--------------+--------------------+-------------------+-----------+-------------+-----------+----+-----------------+--------------------+--------------------+-----------+\n",
            "only showing top 20 rows\n",
            "\n"
          ]
        }
      ]
    },
    {
      "cell_type": "code",
      "metadata": {
        "colab": {
          "base_uri": "https://localhost:8080/"
        },
        "id": "JG6URbCxpKMg",
        "outputId": "d7a5fb43-17ae-4036-cadb-046d8ad9796f"
      },
      "source": [
        "#Determine total number of reviews for paid\n",
        "from pyspark.sql.functions import count\n",
        "total_paid = df_paid.count()\n",
        "total_paid"
      ],
      "execution_count": 33,
      "outputs": [
        {
          "output_type": "execute_result",
          "data": {
            "text/plain": [
              "963"
            ]
          },
          "metadata": {},
          "execution_count": 33
        }
      ]
    },
    {
      "cell_type": "code",
      "metadata": {
        "colab": {
          "base_uri": "https://localhost:8080/"
        },
        "id": "IH5W16Tfslsb",
        "outputId": "347d3f6e-1816-4a05-cd59-e9aa7a839c79"
      },
      "source": [
        "#Determine total number of reviews for unpaid\n",
        "from pyspark.sql.functions import count\n",
        "total_unpaid = df_unpaid.count()\n",
        "total_unpaid"
      ],
      "execution_count": 35,
      "outputs": [
        {
          "output_type": "execute_result",
          "data": {
            "text/plain": [
              "330093"
            ]
          },
          "metadata": {},
          "execution_count": 35
        }
      ]
    },
    {
      "cell_type": "code",
      "metadata": {
        "colab": {
          "base_uri": "https://localhost:8080/"
        },
        "id": "03cK_dWJsvXI",
        "outputId": "9d17b48d-809f-45e4-83de-d666818f947b"
      },
      "source": [
        "#Determine number of five star paid reviews\n",
        "total_paid_5star = df_paid.filter(df_paid.star_rating == 5).count()\n",
        "total_paid_5star"
      ],
      "execution_count": 36,
      "outputs": [
        {
          "output_type": "execute_result",
          "data": {
            "text/plain": [
              "520"
            ]
          },
          "metadata": {},
          "execution_count": 36
        }
      ]
    },
    {
      "cell_type": "code",
      "metadata": {
        "colab": {
          "base_uri": "https://localhost:8080/"
        },
        "id": "0Z91Xqr6tQCc",
        "outputId": "b7656776-2634-4fac-cd1b-86a04d1c2563"
      },
      "source": [
        "#Determine number of five star unpaid reviews\n",
        "total_unpaid_5star = df_unpaid.filter(df_unpaid.star_rating == 5).count()\n",
        "total_unpaid_5star"
      ],
      "execution_count": 37,
      "outputs": [
        {
          "output_type": "execute_result",
          "data": {
            "text/plain": [
              "200616"
            ]
          },
          "metadata": {},
          "execution_count": 37
        }
      ]
    },
    {
      "cell_type": "code",
      "metadata": {
        "colab": {
          "base_uri": "https://localhost:8080/"
        },
        "id": "bmGOHfZDtYuN",
        "outputId": "39bcab6b-a097-4310-97be-79a1442acc99"
      },
      "source": [
        "#Determine percentage of paid 5 star reviews\n",
        "paid_5star_percentage = (total_paid_5star / total_paid) *100\n",
        "paid_5star_percentage"
      ],
      "execution_count": 39,
      "outputs": [
        {
          "output_type": "execute_result",
          "data": {
            "text/plain": [
              "53.99792315680166"
            ]
          },
          "metadata": {},
          "execution_count": 39
        }
      ]
    },
    {
      "cell_type": "code",
      "metadata": {
        "colab": {
          "base_uri": "https://localhost:8080/"
        },
        "id": "uVLPTL6ctsnE",
        "outputId": "c3e7254e-8cf4-4a22-ed7e-465efbaa20b0"
      },
      "source": [
        "#Determine percentage of unpaid 5 star reviews\n",
        "unpaid_5star_percentage = (total_unpaid_5star / total_unpaid) *100\n",
        "unpaid_5star_percentage"
      ],
      "execution_count": 40,
      "outputs": [
        {
          "output_type": "execute_result",
          "data": {
            "text/plain": [
              "60.775599603748034"
            ]
          },
          "metadata": {},
          "execution_count": 40
        }
      ]
    }
  ]
}